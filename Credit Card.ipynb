{
 "cells": [
  {
   "cell_type": "code",
   "execution_count": 1,
   "id": "cc5de9fa",
   "metadata": {},
   "outputs": [],
   "source": [
    "#https://www.kaggle.com/competitions/credit-card-defaulter-prediction/data"
   ]
  },
  {
   "cell_type": "code",
   "execution_count": 1,
   "id": "c18f73b0",
   "metadata": {},
   "outputs": [],
   "source": [
    "import pandas as pd"
   ]
  },
  {
   "cell_type": "code",
   "execution_count": 3,
   "id": "78e504aa",
   "metadata": {},
   "outputs": [],
   "source": [
    "df_train = pd.read_csv('F:/Pallavi/CodeSpyder/Data Sets/credit_card_train.csv')\n",
    "df_test = pd.read_csv('F:/Pallavi/CodeSpyder/Data Sets/credit_card_test.csv')"
   ]
  },
  {
   "cell_type": "code",
   "execution_count": 4,
   "id": "0f005b86",
   "metadata": {},
   "outputs": [
    {
     "data": {
      "text/html": [
       "<div>\n",
       "<style scoped>\n",
       "    .dataframe tbody tr th:only-of-type {\n",
       "        vertical-align: middle;\n",
       "    }\n",
       "\n",
       "    .dataframe tbody tr th {\n",
       "        vertical-align: top;\n",
       "    }\n",
       "\n",
       "    .dataframe thead th {\n",
       "        text-align: right;\n",
       "    }\n",
       "</style>\n",
       "<table border=\"1\" class=\"dataframe\">\n",
       "  <thead>\n",
       "    <tr style=\"text-align: right;\">\n",
       "      <th></th>\n",
       "      <th>LIMIT_BAL</th>\n",
       "      <th>AGE</th>\n",
       "      <th>PAY_0</th>\n",
       "      <th>PAY_2</th>\n",
       "      <th>PAY_3</th>\n",
       "      <th>PAY_4</th>\n",
       "      <th>PAY_5</th>\n",
       "      <th>PAY_6</th>\n",
       "      <th>BILL_AMT1</th>\n",
       "      <th>BILL_AMT2</th>\n",
       "      <th>...</th>\n",
       "      <th>PAY_AMT2</th>\n",
       "      <th>PAY_AMT3</th>\n",
       "      <th>PAY_AMT4</th>\n",
       "      <th>PAY_AMT5</th>\n",
       "      <th>PAY_AMT6</th>\n",
       "      <th>GENDER</th>\n",
       "      <th>QUALIFICATION</th>\n",
       "      <th>MARRIED</th>\n",
       "      <th>defaulter</th>\n",
       "      <th>Id</th>\n",
       "    </tr>\n",
       "  </thead>\n",
       "  <tbody>\n",
       "    <tr>\n",
       "      <th>0</th>\n",
       "      <td>290000.0</td>\n",
       "      <td>50</td>\n",
       "      <td>-1.0</td>\n",
       "      <td>-1.0</td>\n",
       "      <td>-1.0</td>\n",
       "      <td>-1.0</td>\n",
       "      <td>-1.0</td>\n",
       "      <td>-1.0</td>\n",
       "      <td>NaN</td>\n",
       "      <td>199.0</td>\n",
       "      <td>...</td>\n",
       "      <td>1440.0</td>\n",
       "      <td>1017.0</td>\n",
       "      <td>3798.0</td>\n",
       "      <td>4898</td>\n",
       "      <td>5034.0</td>\n",
       "      <td>FEMALE</td>\n",
       "      <td>2</td>\n",
       "      <td>1.0</td>\n",
       "      <td>0</td>\n",
       "      <td>1</td>\n",
       "    </tr>\n",
       "    <tr>\n",
       "      <th>1</th>\n",
       "      <td>20000.0</td>\n",
       "      <td>49</td>\n",
       "      <td>0.0</td>\n",
       "      <td>0.0</td>\n",
       "      <td>0.0</td>\n",
       "      <td>0.0</td>\n",
       "      <td>NaN</td>\n",
       "      <td>0.0</td>\n",
       "      <td>19773.0</td>\n",
       "      <td>18459.0</td>\n",
       "      <td>...</td>\n",
       "      <td>1270.0</td>\n",
       "      <td>633.0</td>\n",
       "      <td>655.0</td>\n",
       "      <td>759</td>\n",
       "      <td>547.0</td>\n",
       "      <td>FEMALE</td>\n",
       "      <td>2</td>\n",
       "      <td>3.0</td>\n",
       "      <td>1</td>\n",
       "      <td>2</td>\n",
       "    </tr>\n",
       "    <tr>\n",
       "      <th>2</th>\n",
       "      <td>230000.0</td>\n",
       "      <td>28</td>\n",
       "      <td>0.0</td>\n",
       "      <td>0.0</td>\n",
       "      <td>0.0</td>\n",
       "      <td>0.0</td>\n",
       "      <td>0.0</td>\n",
       "      <td>0.0</td>\n",
       "      <td>20356.0</td>\n",
       "      <td>21504.0</td>\n",
       "      <td>...</td>\n",
       "      <td>1700.0</td>\n",
       "      <td>2007.0</td>\n",
       "      <td>1000.0</td>\n",
       "      <td>1000</td>\n",
       "      <td>1000.0</td>\n",
       "      <td>FEMALE</td>\n",
       "      <td>1</td>\n",
       "      <td>2.0</td>\n",
       "      <td>0</td>\n",
       "      <td>3</td>\n",
       "    </tr>\n",
       "    <tr>\n",
       "      <th>3</th>\n",
       "      <td>210000.0</td>\n",
       "      <td>31</td>\n",
       "      <td>-1.0</td>\n",
       "      <td>-1.0</td>\n",
       "      <td>-1.0</td>\n",
       "      <td>-1.0</td>\n",
       "      <td>-1.0</td>\n",
       "      <td>-1.0</td>\n",
       "      <td>8600.0</td>\n",
       "      <td>0.0</td>\n",
       "      <td>...</td>\n",
       "      <td>4231.0</td>\n",
       "      <td>4221.0</td>\n",
       "      <td>4221.0</td>\n",
       "      <td>4483</td>\n",
       "      <td>4300.0</td>\n",
       "      <td>FEMALE</td>\n",
       "      <td>1</td>\n",
       "      <td>1.0</td>\n",
       "      <td>0</td>\n",
       "      <td>4</td>\n",
       "    </tr>\n",
       "    <tr>\n",
       "      <th>4</th>\n",
       "      <td>300000.0</td>\n",
       "      <td>24</td>\n",
       "      <td>-2.0</td>\n",
       "      <td>-2.0</td>\n",
       "      <td>-2.0</td>\n",
       "      <td>-2.0</td>\n",
       "      <td>-1.0</td>\n",
       "      <td>-1.0</td>\n",
       "      <td>-158.0</td>\n",
       "      <td>-158.0</td>\n",
       "      <td>...</td>\n",
       "      <td>0.0</td>\n",
       "      <td>0.0</td>\n",
       "      <td>300.0</td>\n",
       "      <td>100</td>\n",
       "      <td>100.0</td>\n",
       "      <td>MALE</td>\n",
       "      <td>2</td>\n",
       "      <td>2.0</td>\n",
       "      <td>0</td>\n",
       "      <td>5</td>\n",
       "    </tr>\n",
       "  </tbody>\n",
       "</table>\n",
       "<p>5 rows × 25 columns</p>\n",
       "</div>"
      ],
      "text/plain": [
       "   LIMIT_BAL  AGE  PAY_0  PAY_2  PAY_3  PAY_4  PAY_5  PAY_6  BILL_AMT1  \\\n",
       "0   290000.0   50   -1.0   -1.0   -1.0   -1.0   -1.0   -1.0        NaN   \n",
       "1    20000.0   49    0.0    0.0    0.0    0.0    NaN    0.0    19773.0   \n",
       "2   230000.0   28    0.0    0.0    0.0    0.0    0.0    0.0    20356.0   \n",
       "3   210000.0   31   -1.0   -1.0   -1.0   -1.0   -1.0   -1.0     8600.0   \n",
       "4   300000.0   24   -2.0   -2.0   -2.0   -2.0   -1.0   -1.0     -158.0   \n",
       "\n",
       "   BILL_AMT2  ...  PAY_AMT2  PAY_AMT3  PAY_AMT4  PAY_AMT5  PAY_AMT6  GENDER  \\\n",
       "0      199.0  ...    1440.0    1017.0    3798.0      4898    5034.0  FEMALE   \n",
       "1    18459.0  ...    1270.0     633.0     655.0       759     547.0  FEMALE   \n",
       "2    21504.0  ...    1700.0    2007.0    1000.0      1000    1000.0  FEMALE   \n",
       "3        0.0  ...    4231.0    4221.0    4221.0      4483    4300.0  FEMALE   \n",
       "4     -158.0  ...       0.0       0.0     300.0       100     100.0    MALE   \n",
       "\n",
       "   QUALIFICATION  MARRIED  defaulter  Id  \n",
       "0              2      1.0          0   1  \n",
       "1              2      3.0          1   2  \n",
       "2              1      2.0          0   3  \n",
       "3              1      1.0          0   4  \n",
       "4              2      2.0          0   5  \n",
       "\n",
       "[5 rows x 25 columns]"
      ]
     },
     "execution_count": 4,
     "metadata": {},
     "output_type": "execute_result"
    }
   ],
   "source": [
    "df_train.head()"
   ]
  },
  {
   "cell_type": "code",
   "execution_count": 5,
   "id": "745b12cc",
   "metadata": {},
   "outputs": [
    {
     "data": {
      "text/html": [
       "<div>\n",
       "<style scoped>\n",
       "    .dataframe tbody tr th:only-of-type {\n",
       "        vertical-align: middle;\n",
       "    }\n",
       "\n",
       "    .dataframe tbody tr th {\n",
       "        vertical-align: top;\n",
       "    }\n",
       "\n",
       "    .dataframe thead th {\n",
       "        text-align: right;\n",
       "    }\n",
       "</style>\n",
       "<table border=\"1\" class=\"dataframe\">\n",
       "  <thead>\n",
       "    <tr style=\"text-align: right;\">\n",
       "      <th></th>\n",
       "      <th>LIMIT_BAL</th>\n",
       "      <th>AGE</th>\n",
       "      <th>PAY_0</th>\n",
       "      <th>PAY_2</th>\n",
       "      <th>PAY_3</th>\n",
       "      <th>PAY_4</th>\n",
       "      <th>PAY_5</th>\n",
       "      <th>PAY_6</th>\n",
       "      <th>BILL_AMT1</th>\n",
       "      <th>BILL_AMT2</th>\n",
       "      <th>...</th>\n",
       "      <th>PAY_AMT1</th>\n",
       "      <th>PAY_AMT2</th>\n",
       "      <th>PAY_AMT3</th>\n",
       "      <th>PAY_AMT4</th>\n",
       "      <th>PAY_AMT5</th>\n",
       "      <th>PAY_AMT6</th>\n",
       "      <th>GENDER</th>\n",
       "      <th>QUALIFICATION</th>\n",
       "      <th>MARRIED</th>\n",
       "      <th>Id</th>\n",
       "    </tr>\n",
       "  </thead>\n",
       "  <tbody>\n",
       "    <tr>\n",
       "      <th>0</th>\n",
       "      <td>350000.0</td>\n",
       "      <td>31</td>\n",
       "      <td>-2.0</td>\n",
       "      <td>-2.0</td>\n",
       "      <td>-2.0</td>\n",
       "      <td>-2.0</td>\n",
       "      <td>-2.0</td>\n",
       "      <td>-2.0</td>\n",
       "      <td>951.0</td>\n",
       "      <td>601.0</td>\n",
       "      <td>...</td>\n",
       "      <td>605.0</td>\n",
       "      <td>716.0</td>\n",
       "      <td>263.0</td>\n",
       "      <td>900.0</td>\n",
       "      <td>1271</td>\n",
       "      <td>NaN</td>\n",
       "      <td>FEMALE</td>\n",
       "      <td>1</td>\n",
       "      <td>2.0</td>\n",
       "      <td>20001</td>\n",
       "    </tr>\n",
       "    <tr>\n",
       "      <th>1</th>\n",
       "      <td>10000.0</td>\n",
       "      <td>27</td>\n",
       "      <td>0.0</td>\n",
       "      <td>0.0</td>\n",
       "      <td>0.0</td>\n",
       "      <td>0.0</td>\n",
       "      <td>0.0</td>\n",
       "      <td>0.0</td>\n",
       "      <td>8907.0</td>\n",
       "      <td>6599.0</td>\n",
       "      <td>...</td>\n",
       "      <td>1500.0</td>\n",
       "      <td>1400.0</td>\n",
       "      <td>1000.0</td>\n",
       "      <td>1009.0</td>\n",
       "      <td>1000</td>\n",
       "      <td>1598.0</td>\n",
       "      <td>MALE</td>\n",
       "      <td>1</td>\n",
       "      <td>2.0</td>\n",
       "      <td>20002</td>\n",
       "    </tr>\n",
       "    <tr>\n",
       "      <th>2</th>\n",
       "      <td>350000.0</td>\n",
       "      <td>34</td>\n",
       "      <td>0.0</td>\n",
       "      <td>0.0</td>\n",
       "      <td>0.0</td>\n",
       "      <td>0.0</td>\n",
       "      <td>0.0</td>\n",
       "      <td>0.0</td>\n",
       "      <td>92134.0</td>\n",
       "      <td>120340.0</td>\n",
       "      <td>...</td>\n",
       "      <td>30000.0</td>\n",
       "      <td>NaN</td>\n",
       "      <td>5000.0</td>\n",
       "      <td>NaN</td>\n",
       "      <td>4000</td>\n",
       "      <td>5000.0</td>\n",
       "      <td>MALE</td>\n",
       "      <td>1</td>\n",
       "      <td>2.0</td>\n",
       "      <td>20003</td>\n",
       "    </tr>\n",
       "    <tr>\n",
       "      <th>3</th>\n",
       "      <td>20000.0</td>\n",
       "      <td>40</td>\n",
       "      <td>-1.0</td>\n",
       "      <td>-1.0</td>\n",
       "      <td>-1.0</td>\n",
       "      <td>-2.0</td>\n",
       "      <td>-1.0</td>\n",
       "      <td>-1.0</td>\n",
       "      <td>1925.0</td>\n",
       "      <td>500.0</td>\n",
       "      <td>...</td>\n",
       "      <td>500.0</td>\n",
       "      <td>0.0</td>\n",
       "      <td>0.0</td>\n",
       "      <td>6360.0</td>\n",
       "      <td>11220</td>\n",
       "      <td>0.0</td>\n",
       "      <td>FEMALE</td>\n",
       "      <td>1</td>\n",
       "      <td>1.0</td>\n",
       "      <td>20004</td>\n",
       "    </tr>\n",
       "    <tr>\n",
       "      <th>4</th>\n",
       "      <td>210000.0</td>\n",
       "      <td>39</td>\n",
       "      <td>1.0</td>\n",
       "      <td>-1.0</td>\n",
       "      <td>NaN</td>\n",
       "      <td>-1.0</td>\n",
       "      <td>-1.0</td>\n",
       "      <td>-1.0</td>\n",
       "      <td>0.0</td>\n",
       "      <td>650.0</td>\n",
       "      <td>...</td>\n",
       "      <td>650.0</td>\n",
       "      <td>325.0</td>\n",
       "      <td>325.0</td>\n",
       "      <td>325.0</td>\n",
       "      <td>325</td>\n",
       "      <td>325.0</td>\n",
       "      <td>MALE</td>\n",
       "      <td>2</td>\n",
       "      <td>1.0</td>\n",
       "      <td>20005</td>\n",
       "    </tr>\n",
       "  </tbody>\n",
       "</table>\n",
       "<p>5 rows × 24 columns</p>\n",
       "</div>"
      ],
      "text/plain": [
       "   LIMIT_BAL  AGE  PAY_0  PAY_2  PAY_3  PAY_4  PAY_5  PAY_6  BILL_AMT1  \\\n",
       "0   350000.0   31   -2.0   -2.0   -2.0   -2.0   -2.0   -2.0      951.0   \n",
       "1    10000.0   27    0.0    0.0    0.0    0.0    0.0    0.0     8907.0   \n",
       "2   350000.0   34    0.0    0.0    0.0    0.0    0.0    0.0    92134.0   \n",
       "3    20000.0   40   -1.0   -1.0   -1.0   -2.0   -1.0   -1.0     1925.0   \n",
       "4   210000.0   39    1.0   -1.0    NaN   -1.0   -1.0   -1.0        0.0   \n",
       "\n",
       "   BILL_AMT2  ...  PAY_AMT1  PAY_AMT2  PAY_AMT3  PAY_AMT4  PAY_AMT5  PAY_AMT6  \\\n",
       "0      601.0  ...     605.0     716.0     263.0     900.0      1271       NaN   \n",
       "1     6599.0  ...    1500.0    1400.0    1000.0    1009.0      1000    1598.0   \n",
       "2   120340.0  ...   30000.0       NaN    5000.0       NaN      4000    5000.0   \n",
       "3      500.0  ...     500.0       0.0       0.0    6360.0     11220       0.0   \n",
       "4      650.0  ...     650.0     325.0     325.0     325.0       325     325.0   \n",
       "\n",
       "   GENDER  QUALIFICATION  MARRIED     Id  \n",
       "0  FEMALE              1      2.0  20001  \n",
       "1    MALE              1      2.0  20002  \n",
       "2    MALE              1      2.0  20003  \n",
       "3  FEMALE              1      1.0  20004  \n",
       "4    MALE              2      1.0  20005  \n",
       "\n",
       "[5 rows x 24 columns]"
      ]
     },
     "execution_count": 5,
     "metadata": {},
     "output_type": "execute_result"
    }
   ],
   "source": [
    "df_test.head()"
   ]
  },
  {
   "cell_type": "code",
   "execution_count": 6,
   "id": "61c1bac9",
   "metadata": {},
   "outputs": [
    {
     "data": {
      "text/plain": [
       "((20000, 25), (5000, 24))"
      ]
     },
     "execution_count": 6,
     "metadata": {},
     "output_type": "execute_result"
    }
   ],
   "source": [
    "df_train.shape,df_test.shape"
   ]
  },
  {
   "cell_type": "markdown",
   "id": "45852883",
   "metadata": {},
   "source": [
    "Column wise null values"
   ]
  },
  {
   "cell_type": "code",
   "execution_count": 7,
   "id": "bb111fae",
   "metadata": {},
   "outputs": [
    {
     "data": {
      "text/plain": [
       "LIMIT_BAL        1300\n",
       "AGE                 0\n",
       "PAY_0             656\n",
       "PAY_2            1859\n",
       "PAY_3            1249\n",
       "PAY_4             684\n",
       "PAY_5             677\n",
       "PAY_6            1345\n",
       "BILL_AMT1        1870\n",
       "BILL_AMT2        1319\n",
       "BILL_AMT3         677\n",
       "BILL_AMT4           0\n",
       "BILL_AMT5         682\n",
       "BILL_AMT6           0\n",
       "PAY_AMT1         1310\n",
       "PAY_AMT2         1237\n",
       "PAY_AMT3         1309\n",
       "PAY_AMT4          682\n",
       "PAY_AMT5            0\n",
       "PAY_AMT6          688\n",
       "GENDER              0\n",
       "QUALIFICATION       0\n",
       "MARRIED          1326\n",
       "defaulter           0\n",
       "Id                  0\n",
       "dtype: int64"
      ]
     },
     "execution_count": 7,
     "metadata": {},
     "output_type": "execute_result"
    }
   ],
   "source": [
    "df_train.isna().sum()"
   ]
  },
  {
   "cell_type": "code",
   "execution_count": 8,
   "id": "88bbe9a3",
   "metadata": {},
   "outputs": [
    {
     "data": {
      "text/plain": [
       "LIMIT_BAL        320\n",
       "AGE                0\n",
       "PAY_0            164\n",
       "PAY_2            465\n",
       "PAY_3            328\n",
       "PAY_4            169\n",
       "PAY_5            171\n",
       "PAY_6            299\n",
       "BILL_AMT1        465\n",
       "BILL_AMT2        318\n",
       "BILL_AMT3        174\n",
       "BILL_AMT4          0\n",
       "BILL_AMT5        161\n",
       "BILL_AMT6          0\n",
       "PAY_AMT1         349\n",
       "PAY_AMT2         302\n",
       "PAY_AMT3         368\n",
       "PAY_AMT4         161\n",
       "PAY_AMT5           0\n",
       "PAY_AMT6         192\n",
       "GENDER             0\n",
       "QUALIFICATION      0\n",
       "MARRIED          321\n",
       "Id                 0\n",
       "dtype: int64"
      ]
     },
     "execution_count": 8,
     "metadata": {},
     "output_type": "execute_result"
    }
   ],
   "source": [
    "df_test.isna().sum()"
   ]
  },
  {
   "cell_type": "markdown",
   "id": "db683c97",
   "metadata": {},
   "source": [
    "Row vise null values"
   ]
  },
  {
   "cell_type": "code",
   "execution_count": 9,
   "id": "d0862a87",
   "metadata": {},
   "outputs": [
    {
     "data": {
      "text/plain": [
       "7"
      ]
     },
     "execution_count": 9,
     "metadata": {},
     "output_type": "execute_result"
    }
   ],
   "source": [
    "df_train.isna().sum(axis=1).max()"
   ]
  },
  {
   "cell_type": "code",
   "execution_count": 10,
   "id": "8c632372",
   "metadata": {},
   "outputs": [
    {
     "data": {
      "text/html": [
       "<div>\n",
       "<style scoped>\n",
       "    .dataframe tbody tr th:only-of-type {\n",
       "        vertical-align: middle;\n",
       "    }\n",
       "\n",
       "    .dataframe tbody tr th {\n",
       "        vertical-align: top;\n",
       "    }\n",
       "\n",
       "    .dataframe thead th {\n",
       "        text-align: right;\n",
       "    }\n",
       "</style>\n",
       "<table border=\"1\" class=\"dataframe\">\n",
       "  <thead>\n",
       "    <tr style=\"text-align: right;\">\n",
       "      <th></th>\n",
       "      <th>LIMIT_BAL</th>\n",
       "      <th>AGE</th>\n",
       "      <th>PAY_0</th>\n",
       "      <th>PAY_2</th>\n",
       "      <th>PAY_3</th>\n",
       "      <th>PAY_4</th>\n",
       "      <th>PAY_5</th>\n",
       "      <th>PAY_6</th>\n",
       "      <th>BILL_AMT1</th>\n",
       "      <th>BILL_AMT2</th>\n",
       "      <th>...</th>\n",
       "      <th>PAY_AMT2</th>\n",
       "      <th>PAY_AMT3</th>\n",
       "      <th>PAY_AMT4</th>\n",
       "      <th>PAY_AMT5</th>\n",
       "      <th>PAY_AMT6</th>\n",
       "      <th>GENDER</th>\n",
       "      <th>QUALIFICATION</th>\n",
       "      <th>MARRIED</th>\n",
       "      <th>defaulter</th>\n",
       "      <th>Id</th>\n",
       "    </tr>\n",
       "  </thead>\n",
       "  <tbody>\n",
       "    <tr>\n",
       "      <th>16194</th>\n",
       "      <td>150000.0</td>\n",
       "      <td>43</td>\n",
       "      <td>0.0</td>\n",
       "      <td>NaN</td>\n",
       "      <td>0.0</td>\n",
       "      <td>0.0</td>\n",
       "      <td>0.0</td>\n",
       "      <td>0.0</td>\n",
       "      <td>150797.0</td>\n",
       "      <td>NaN</td>\n",
       "      <td>...</td>\n",
       "      <td>2014.0</td>\n",
       "      <td>NaN</td>\n",
       "      <td>NaN</td>\n",
       "      <td>2018</td>\n",
       "      <td>NaN</td>\n",
       "      <td>MALE</td>\n",
       "      <td>3</td>\n",
       "      <td>NaN</td>\n",
       "      <td>0</td>\n",
       "      <td>16195</td>\n",
       "    </tr>\n",
       "  </tbody>\n",
       "</table>\n",
       "<p>1 rows × 25 columns</p>\n",
       "</div>"
      ],
      "text/plain": [
       "       LIMIT_BAL  AGE  PAY_0  PAY_2  PAY_3  PAY_4  PAY_5  PAY_6  BILL_AMT1  \\\n",
       "16194   150000.0   43    0.0    NaN    0.0    0.0    0.0    0.0   150797.0   \n",
       "\n",
       "       BILL_AMT2  ...  PAY_AMT2  PAY_AMT3  PAY_AMT4  PAY_AMT5  PAY_AMT6  \\\n",
       "16194        NaN  ...    2014.0       NaN       NaN      2018       NaN   \n",
       "\n",
       "       GENDER  QUALIFICATION  MARRIED  defaulter     Id  \n",
       "16194    MALE              3      NaN          0  16195  \n",
       "\n",
       "[1 rows x 25 columns]"
      ]
     },
     "execution_count": 10,
     "metadata": {},
     "output_type": "execute_result"
    }
   ],
   "source": [
    "df_train.isna().sum(axis=1)==7 # gives boolean series\n",
    "df_train[df_train.isna().sum(axis=1)==7] # gives index"
   ]
  },
  {
   "cell_type": "markdown",
   "id": "c8e71190",
   "metadata": {},
   "source": [
    "Removing rows which has more than 1/4th values are null"
   ]
  },
  {
   "cell_type": "code",
   "execution_count": 11,
   "id": "664e3185",
   "metadata": {},
   "outputs": [],
   "source": [
    "df_train.drop(index=16194,axis=1,inplace=True)"
   ]
  },
  {
   "cell_type": "markdown",
   "id": "9d3493e5",
   "metadata": {},
   "source": [
    "Checking null values row wise"
   ]
  },
  {
   "cell_type": "code",
   "execution_count": 12,
   "id": "4ce3e1b9",
   "metadata": {},
   "outputs": [
    {
     "data": {
      "text/plain": [
       "6"
      ]
     },
     "execution_count": 12,
     "metadata": {},
     "output_type": "execute_result"
    }
   ],
   "source": [
    "df_train.isna().sum(axis=1).max()"
   ]
  },
  {
   "cell_type": "code",
   "execution_count": 13,
   "id": "a2b26db5",
   "metadata": {},
   "outputs": [
    {
     "data": {
      "text/html": [
       "<div>\n",
       "<style scoped>\n",
       "    .dataframe tbody tr th:only-of-type {\n",
       "        vertical-align: middle;\n",
       "    }\n",
       "\n",
       "    .dataframe tbody tr th {\n",
       "        vertical-align: top;\n",
       "    }\n",
       "\n",
       "    .dataframe thead th {\n",
       "        text-align: right;\n",
       "    }\n",
       "</style>\n",
       "<table border=\"1\" class=\"dataframe\">\n",
       "  <thead>\n",
       "    <tr style=\"text-align: right;\">\n",
       "      <th></th>\n",
       "      <th>LIMIT_BAL</th>\n",
       "      <th>AGE</th>\n",
       "      <th>PAY_0</th>\n",
       "      <th>PAY_2</th>\n",
       "      <th>PAY_3</th>\n",
       "      <th>PAY_4</th>\n",
       "      <th>PAY_5</th>\n",
       "      <th>PAY_6</th>\n",
       "      <th>BILL_AMT1</th>\n",
       "      <th>BILL_AMT2</th>\n",
       "      <th>...</th>\n",
       "      <th>PAY_AMT2</th>\n",
       "      <th>PAY_AMT3</th>\n",
       "      <th>PAY_AMT4</th>\n",
       "      <th>PAY_AMT5</th>\n",
       "      <th>PAY_AMT6</th>\n",
       "      <th>GENDER</th>\n",
       "      <th>QUALIFICATION</th>\n",
       "      <th>MARRIED</th>\n",
       "      <th>defaulter</th>\n",
       "      <th>Id</th>\n",
       "    </tr>\n",
       "  </thead>\n",
       "  <tbody>\n",
       "    <tr>\n",
       "      <th>6142</th>\n",
       "      <td>100000.0</td>\n",
       "      <td>33</td>\n",
       "      <td>0.0</td>\n",
       "      <td>NaN</td>\n",
       "      <td>NaN</td>\n",
       "      <td>0.0</td>\n",
       "      <td>0.0</td>\n",
       "      <td>NaN</td>\n",
       "      <td>98803.0</td>\n",
       "      <td>101103.0</td>\n",
       "      <td>...</td>\n",
       "      <td>4098.0</td>\n",
       "      <td>NaN</td>\n",
       "      <td>3106.0</td>\n",
       "      <td>4000</td>\n",
       "      <td>4000.0</td>\n",
       "      <td>MALE</td>\n",
       "      <td>1</td>\n",
       "      <td>1.0</td>\n",
       "      <td>1</td>\n",
       "      <td>6143</td>\n",
       "    </tr>\n",
       "    <tr>\n",
       "      <th>11254</th>\n",
       "      <td>70000.0</td>\n",
       "      <td>25</td>\n",
       "      <td>0.0</td>\n",
       "      <td>0.0</td>\n",
       "      <td>0.0</td>\n",
       "      <td>NaN</td>\n",
       "      <td>0.0</td>\n",
       "      <td>NaN</td>\n",
       "      <td>69023.0</td>\n",
       "      <td>NaN</td>\n",
       "      <td>...</td>\n",
       "      <td>NaN</td>\n",
       "      <td>2100.0</td>\n",
       "      <td>2128.0</td>\n",
       "      <td>3000</td>\n",
       "      <td>NaN</td>\n",
       "      <td>FEMALE</td>\n",
       "      <td>1</td>\n",
       "      <td>NaN</td>\n",
       "      <td>0</td>\n",
       "      <td>11255</td>\n",
       "    </tr>\n",
       "    <tr>\n",
       "      <th>12981</th>\n",
       "      <td>190000.0</td>\n",
       "      <td>25</td>\n",
       "      <td>1.0</td>\n",
       "      <td>-1.0</td>\n",
       "      <td>0.0</td>\n",
       "      <td>NaN</td>\n",
       "      <td>0.0</td>\n",
       "      <td>0.0</td>\n",
       "      <td>NaN</td>\n",
       "      <td>2236.0</td>\n",
       "      <td>...</td>\n",
       "      <td>NaN</td>\n",
       "      <td>3060.0</td>\n",
       "      <td>NaN</td>\n",
       "      <td>0</td>\n",
       "      <td>0.0</td>\n",
       "      <td>FEMALE</td>\n",
       "      <td>1</td>\n",
       "      <td>2.0</td>\n",
       "      <td>0</td>\n",
       "      <td>12982</td>\n",
       "    </tr>\n",
       "    <tr>\n",
       "      <th>16187</th>\n",
       "      <td>200000.0</td>\n",
       "      <td>32</td>\n",
       "      <td>-1.0</td>\n",
       "      <td>NaN</td>\n",
       "      <td>NaN</td>\n",
       "      <td>0.0</td>\n",
       "      <td>0.0</td>\n",
       "      <td>NaN</td>\n",
       "      <td>4935.0</td>\n",
       "      <td>-200.0</td>\n",
       "      <td>...</td>\n",
       "      <td>11663.0</td>\n",
       "      <td>9363.0</td>\n",
       "      <td>NaN</td>\n",
       "      <td>3000</td>\n",
       "      <td>1000.0</td>\n",
       "      <td>MALE</td>\n",
       "      <td>1</td>\n",
       "      <td>2.0</td>\n",
       "      <td>0</td>\n",
       "      <td>16188</td>\n",
       "    </tr>\n",
       "    <tr>\n",
       "      <th>18610</th>\n",
       "      <td>290000.0</td>\n",
       "      <td>31</td>\n",
       "      <td>0.0</td>\n",
       "      <td>NaN</td>\n",
       "      <td>0.0</td>\n",
       "      <td>0.0</td>\n",
       "      <td>0.0</td>\n",
       "      <td>NaN</td>\n",
       "      <td>NaN</td>\n",
       "      <td>NaN</td>\n",
       "      <td>...</td>\n",
       "      <td>4005.0</td>\n",
       "      <td>4000.0</td>\n",
       "      <td>3000.0</td>\n",
       "      <td>2928</td>\n",
       "      <td>NaN</td>\n",
       "      <td>FEMALE</td>\n",
       "      <td>2</td>\n",
       "      <td>1.0</td>\n",
       "      <td>0</td>\n",
       "      <td>18611</td>\n",
       "    </tr>\n",
       "  </tbody>\n",
       "</table>\n",
       "<p>5 rows × 25 columns</p>\n",
       "</div>"
      ],
      "text/plain": [
       "       LIMIT_BAL  AGE  PAY_0  PAY_2  PAY_3  PAY_4  PAY_5  PAY_6  BILL_AMT1  \\\n",
       "6142    100000.0   33    0.0    NaN    NaN    0.0    0.0    NaN    98803.0   \n",
       "11254    70000.0   25    0.0    0.0    0.0    NaN    0.0    NaN    69023.0   \n",
       "12981   190000.0   25    1.0   -1.0    0.0    NaN    0.0    0.0        NaN   \n",
       "16187   200000.0   32   -1.0    NaN    NaN    0.0    0.0    NaN     4935.0   \n",
       "18610   290000.0   31    0.0    NaN    0.0    0.0    0.0    NaN        NaN   \n",
       "\n",
       "       BILL_AMT2  ...  PAY_AMT2  PAY_AMT3  PAY_AMT4  PAY_AMT5  PAY_AMT6  \\\n",
       "6142    101103.0  ...    4098.0       NaN    3106.0      4000    4000.0   \n",
       "11254        NaN  ...       NaN    2100.0    2128.0      3000       NaN   \n",
       "12981     2236.0  ...       NaN    3060.0       NaN         0       0.0   \n",
       "16187     -200.0  ...   11663.0    9363.0       NaN      3000    1000.0   \n",
       "18610        NaN  ...    4005.0    4000.0    3000.0      2928       NaN   \n",
       "\n",
       "       GENDER  QUALIFICATION  MARRIED  defaulter     Id  \n",
       "6142     MALE              1      1.0          1   6143  \n",
       "11254  FEMALE              1      NaN          0  11255  \n",
       "12981  FEMALE              1      2.0          0  12982  \n",
       "16187    MALE              1      2.0          0  16188  \n",
       "18610  FEMALE              2      1.0          0  18611  \n",
       "\n",
       "[5 rows x 25 columns]"
      ]
     },
     "execution_count": 13,
     "metadata": {},
     "output_type": "execute_result"
    }
   ],
   "source": [
    "df_train[df_train.isna().sum(axis=1)==6]"
   ]
  },
  {
   "cell_type": "markdown",
   "id": "e5a8a5cd",
   "metadata": {},
   "source": [
    "Droping rows which has more than 1/4th values as null"
   ]
  },
  {
   "cell_type": "code",
   "execution_count": 14,
   "id": "24852e75",
   "metadata": {},
   "outputs": [],
   "source": [
    "df_train.drop(index=6142,axis=1,inplace=True)\n",
    "df_train.drop(index=11254,axis=1,inplace=True)\n",
    "df_train.drop(index=12981,axis=1,inplace=True)\n",
    "df_train.drop(index=16187,axis=1,inplace=True)\n",
    "df_train.drop(index=18610,axis=1,inplace=True)"
   ]
  },
  {
   "cell_type": "markdown",
   "id": "74d388ea",
   "metadata": {},
   "source": [
    "Checking data types of columns"
   ]
  },
  {
   "cell_type": "code",
   "execution_count": 15,
   "id": "f1e020cb",
   "metadata": {},
   "outputs": [
    {
     "data": {
      "text/plain": [
       "LIMIT_BAL        float64\n",
       "AGE                int64\n",
       "PAY_0            float64\n",
       "PAY_2            float64\n",
       "PAY_3            float64\n",
       "PAY_4            float64\n",
       "PAY_5            float64\n",
       "PAY_6            float64\n",
       "BILL_AMT1        float64\n",
       "BILL_AMT2        float64\n",
       "BILL_AMT3        float64\n",
       "BILL_AMT4          int64\n",
       "BILL_AMT5        float64\n",
       "BILL_AMT6          int64\n",
       "PAY_AMT1         float64\n",
       "PAY_AMT2         float64\n",
       "PAY_AMT3         float64\n",
       "PAY_AMT4         float64\n",
       "PAY_AMT5           int64\n",
       "PAY_AMT6         float64\n",
       "GENDER            object\n",
       "QUALIFICATION      int64\n",
       "MARRIED          float64\n",
       "defaulter          int64\n",
       "Id                 int64\n",
       "dtype: object"
      ]
     },
     "execution_count": 15,
     "metadata": {},
     "output_type": "execute_result"
    }
   ],
   "source": [
    "df_train.dtypes"
   ]
  },
  {
   "cell_type": "code",
   "execution_count": 16,
   "id": "b89f333c",
   "metadata": {},
   "outputs": [
    {
     "data": {
      "text/plain": [
       "LIMIT_BAL        float64\n",
       "AGE                int64\n",
       "PAY_0            float64\n",
       "PAY_2            float64\n",
       "PAY_3            float64\n",
       "PAY_4            float64\n",
       "PAY_5            float64\n",
       "PAY_6            float64\n",
       "BILL_AMT1        float64\n",
       "BILL_AMT2        float64\n",
       "BILL_AMT3        float64\n",
       "BILL_AMT4          int64\n",
       "BILL_AMT5        float64\n",
       "BILL_AMT6          int64\n",
       "PAY_AMT1         float64\n",
       "PAY_AMT2         float64\n",
       "PAY_AMT3         float64\n",
       "PAY_AMT4         float64\n",
       "PAY_AMT5           int64\n",
       "PAY_AMT6         float64\n",
       "GENDER            object\n",
       "QUALIFICATION      int64\n",
       "MARRIED          float64\n",
       "Id                 int64\n",
       "dtype: object"
      ]
     },
     "execution_count": 16,
     "metadata": {},
     "output_type": "execute_result"
    }
   ],
   "source": [
    "df_test.dtypes"
   ]
  },
  {
   "cell_type": "markdown",
   "id": "91a88809",
   "metadata": {},
   "source": [
    "Differentiating numeric data type columns & object data type columns"
   ]
  },
  {
   "cell_type": "code",
   "execution_count": 17,
   "id": "7e8f9ff4",
   "metadata": {},
   "outputs": [],
   "source": [
    "col_num = list(df_train.select_dtypes(exclude='object').columns)"
   ]
  },
  {
   "cell_type": "code",
   "execution_count": 18,
   "id": "b3497912",
   "metadata": {},
   "outputs": [],
   "source": [
    "col_num.remove('defaulter')\n",
    "col_num.remove('Id')"
   ]
  },
  {
   "cell_type": "code",
   "execution_count": 19,
   "id": "7648610b",
   "metadata": {},
   "outputs": [
    {
     "data": {
      "text/plain": [
       "['LIMIT_BAL',\n",
       " 'AGE',\n",
       " 'PAY_0',\n",
       " 'PAY_2',\n",
       " 'PAY_3',\n",
       " 'PAY_4',\n",
       " 'PAY_5',\n",
       " 'PAY_6',\n",
       " 'BILL_AMT1',\n",
       " 'BILL_AMT2',\n",
       " 'BILL_AMT3',\n",
       " 'BILL_AMT4',\n",
       " 'BILL_AMT5',\n",
       " 'BILL_AMT6',\n",
       " 'PAY_AMT1',\n",
       " 'PAY_AMT2',\n",
       " 'PAY_AMT3',\n",
       " 'PAY_AMT4',\n",
       " 'PAY_AMT5',\n",
       " 'PAY_AMT6',\n",
       " 'QUALIFICATION',\n",
       " 'MARRIED']"
      ]
     },
     "execution_count": 19,
     "metadata": {},
     "output_type": "execute_result"
    }
   ],
   "source": [
    "col_num"
   ]
  },
  {
   "cell_type": "code",
   "execution_count": 20,
   "id": "de8e9c69",
   "metadata": {},
   "outputs": [],
   "source": [
    "col_cat = list(df_train.select_dtypes(include='object').columns)"
   ]
  },
  {
   "cell_type": "code",
   "execution_count": 21,
   "id": "ba72b5c1",
   "metadata": {},
   "outputs": [
    {
     "data": {
      "text/plain": [
       "['GENDER']"
      ]
     },
     "execution_count": 21,
     "metadata": {},
     "output_type": "execute_result"
    }
   ],
   "source": [
    "col_cat"
   ]
  },
  {
   "cell_type": "markdown",
   "id": "e1e5915d",
   "metadata": {},
   "source": [
    "### Imputation/Filling Missing Data"
   ]
  },
  {
   "cell_type": "code",
   "execution_count": 22,
   "id": "65b78710",
   "metadata": {},
   "outputs": [],
   "source": [
    "from sklearn.impute import SimpleImputer"
   ]
  },
  {
   "cell_type": "code",
   "execution_count": 23,
   "id": "858cd5ba",
   "metadata": {},
   "outputs": [],
   "source": [
    "#For numeric data\n",
    "imputer_num = SimpleImputer(strategy='median')\n",
    "\n",
    "imputer_num.fit(df_train[col_num])\n",
    "\n",
    "df_train[col_num] = imputer_num.transform(df_train[col_num])\n",
    "df_test[col_num] = imputer_num.transform(df_test[col_num])"
   ]
  },
  {
   "cell_type": "code",
   "execution_count": 24,
   "id": "3726a731",
   "metadata": {},
   "outputs": [],
   "source": [
    "#For categorical data\n",
    "imputer_cat = SimpleImputer(strategy='most_frequent')\n",
    "\n",
    "imputer_cat.fit(df_train[col_cat])\n",
    "\n",
    "df_train[col_cat] = imputer_cat.transform(df_train[col_cat])\n",
    "df_test[col_cat] = imputer_cat.transform(df_test[col_cat])"
   ]
  },
  {
   "cell_type": "markdown",
   "id": "8ffbf1b5",
   "metadata": {},
   "source": [
    "### Encoding"
   ]
  },
  {
   "cell_type": "code",
   "execution_count": 25,
   "id": "01757b86",
   "metadata": {},
   "outputs": [],
   "source": [
    "#Label encoding\n",
    "df_train.GENDER = df_train.GENDER.map({'FEMALE':0,'MALE':1})\n",
    "df_test.GENDER = df_test.GENDER.map({'FEMALE':0,'MALE':1})"
   ]
  },
  {
   "cell_type": "markdown",
   "id": "2be7f6a0",
   "metadata": {},
   "source": [
    "### Scaling"
   ]
  },
  {
   "cell_type": "code",
   "execution_count": 26,
   "id": "ef1aee5e",
   "metadata": {},
   "outputs": [],
   "source": [
    "from sklearn.preprocessing import MinMaxScaler"
   ]
  },
  {
   "cell_type": "code",
   "execution_count": 27,
   "id": "021d588c",
   "metadata": {},
   "outputs": [],
   "source": [
    "scaler = MinMaxScaler()\n",
    "\n",
    "scaler.fit(df_train[col_num])\n",
    "\n",
    "df_train[col_num] = scaler.transform(df_train[col_num])\n",
    "df_test[col_num] = scaler.transform(df_test[col_num])"
   ]
  },
  {
   "cell_type": "markdown",
   "id": "f23c527e",
   "metadata": {},
   "source": [
    "### Correlation/Feature Selection"
   ]
  },
  {
   "cell_type": "code",
   "execution_count": 28,
   "id": "61b12bae",
   "metadata": {},
   "outputs": [
    {
     "data": {
      "text/plain": [
       "LIMIT_BAL       -0.149299\n",
       "AGE              0.006758\n",
       "PAY_0            0.314893\n",
       "PAY_2            0.249078\n",
       "PAY_3            0.226261\n",
       "PAY_4            0.210807\n",
       "PAY_5            0.198714\n",
       "PAY_6            0.176238\n",
       "BILL_AMT1       -0.022676\n",
       "BILL_AMT2       -0.025823\n",
       "BILL_AMT3       -0.022064\n",
       "BILL_AMT4       -0.020853\n",
       "BILL_AMT5       -0.019773\n",
       "BILL_AMT6       -0.018199\n",
       "PAY_AMT1        -0.074847\n",
       "PAY_AMT2        -0.058251\n",
       "PAY_AMT3        -0.053578\n",
       "PAY_AMT4        -0.060938\n",
       "PAY_AMT5        -0.055544\n",
       "PAY_AMT6        -0.056624\n",
       "GENDER           0.043211\n",
       "QUALIFICATION    0.030541\n",
       "MARRIED         -0.023683\n",
       "defaulter        1.000000\n",
       "Id               0.006499\n",
       "Name: defaulter, dtype: float64"
      ]
     },
     "execution_count": 28,
     "metadata": {},
     "output_type": "execute_result"
    }
   ],
   "source": [
    "df_train.corr()['defaulter']"
   ]
  },
  {
   "cell_type": "code",
   "execution_count": 29,
   "id": "7998fd34",
   "metadata": {},
   "outputs": [
    {
     "data": {
      "text/plain": [
       "['LIMIT_BAL',\n",
       " 'PAY_0',\n",
       " 'PAY_2',\n",
       " 'PAY_3',\n",
       " 'PAY_4',\n",
       " 'PAY_5',\n",
       " 'PAY_6',\n",
       " 'PAY_AMT1',\n",
       " 'PAY_AMT2',\n",
       " 'PAY_AMT3',\n",
       " 'PAY_AMT4',\n",
       " 'PAY_AMT5',\n",
       " 'PAY_AMT6',\n",
       " 'GENDER',\n",
       " 'QUALIFICATION',\n",
       " 'defaulter']"
      ]
     },
     "execution_count": 29,
     "metadata": {},
     "output_type": "execute_result"
    }
   ],
   "source": [
    "list(df_train.corr()['defaulter'][(df_train.corr()['defaulter']>=0.03)|(df_train.corr()['defaulter']<=-0.03)].index)"
   ]
  },
  {
   "cell_type": "markdown",
   "id": "c429ab28",
   "metadata": {},
   "source": [
    "Removing less correalated columns"
   ]
  },
  {
   "cell_type": "code",
   "execution_count": 30,
   "id": "d0e0fd1d",
   "metadata": {},
   "outputs": [],
   "source": [
    "col_num.remove('AGE')\n",
    "col_num.remove('BILL_AMT1')\n",
    "col_num.remove('BILL_AMT2')\n",
    "col_num.remove('BILL_AMT3')\n",
    "col_num.remove('BILL_AMT4')\n",
    "col_num.remove('BILL_AMT5')\n",
    "col_num.remove('BILL_AMT6')\n",
    "col_num.remove('MARRIED')"
   ]
  },
  {
   "cell_type": "code",
   "execution_count": 31,
   "id": "b45fcd08",
   "metadata": {},
   "outputs": [],
   "source": [
    "col_final = col_num+col_cat"
   ]
  },
  {
   "cell_type": "code",
   "execution_count": 32,
   "id": "8cd0554e",
   "metadata": {},
   "outputs": [
    {
     "data": {
      "text/plain": [
       "['LIMIT_BAL',\n",
       " 'PAY_0',\n",
       " 'PAY_2',\n",
       " 'PAY_3',\n",
       " 'PAY_4',\n",
       " 'PAY_5',\n",
       " 'PAY_6',\n",
       " 'PAY_AMT1',\n",
       " 'PAY_AMT2',\n",
       " 'PAY_AMT3',\n",
       " 'PAY_AMT4',\n",
       " 'PAY_AMT5',\n",
       " 'PAY_AMT6',\n",
       " 'QUALIFICATION',\n",
       " 'GENDER']"
      ]
     },
     "execution_count": 32,
     "metadata": {},
     "output_type": "execute_result"
    }
   ],
   "source": [
    "col_final"
   ]
  },
  {
   "cell_type": "markdown",
   "id": "34d1eab7",
   "metadata": {},
   "source": [
    "### Model Building"
   ]
  },
  {
   "cell_type": "code",
   "execution_count": 33,
   "id": "488b5f4b",
   "metadata": {},
   "outputs": [],
   "source": [
    "from sklearn.model_selection import GridSearchCV\n",
    "from sklearn.ensemble import GradientBoostingClassifier"
   ]
  },
  {
   "cell_type": "code",
   "execution_count": 34,
   "id": "6a479b59",
   "metadata": {},
   "outputs": [],
   "source": [
    "model = GradientBoostingClassifier(n_estimators=400,max_depth=2,min_samples_leaf=2)"
   ]
  },
  {
   "cell_type": "code",
   "execution_count": 35,
   "id": "0287e66e",
   "metadata": {},
   "outputs": [
    {
     "data": {
      "text/plain": [
       "GradientBoostingClassifier(max_depth=2, min_samples_leaf=2, n_estimators=400)"
      ]
     },
     "execution_count": 35,
     "metadata": {},
     "output_type": "execute_result"
    }
   ],
   "source": [
    "model.fit(df_train[col_final],df_train['defaulter'])"
   ]
  },
  {
   "cell_type": "code",
   "execution_count": 36,
   "id": "79f2d1c2",
   "metadata": {},
   "outputs": [],
   "source": [
    "yp = model.predict(df_test[col_final])"
   ]
  },
  {
   "cell_type": "code",
   "execution_count": 37,
   "id": "64273cc6",
   "metadata": {},
   "outputs": [],
   "source": [
    "cc_submission = pd.DataFrame({'Id':df_test.Id,'defaulter':yp})"
   ]
  },
  {
   "cell_type": "code",
   "execution_count": 38,
   "id": "9e7dd6ef",
   "metadata": {},
   "outputs": [],
   "source": [
    "cc_submission.to_csv('cc_submission.csv',index=False)"
   ]
  },
  {
   "cell_type": "code",
   "execution_count": null,
   "id": "19a4d12f",
   "metadata": {},
   "outputs": [],
   "source": []
  }
 ],
 "metadata": {
  "kernelspec": {
   "display_name": "env1",
   "language": "python",
   "name": "python3"
  },
  "language_info": {
   "codemirror_mode": {
    "name": "ipython",
    "version": 3
   },
   "file_extension": ".py",
   "mimetype": "text/x-python",
   "name": "python",
   "nbconvert_exporter": "python",
   "pygments_lexer": "ipython3",
   "version": "3.10.8"
  },
  "vscode": {
   "interpreter": {
    "hash": "89cbbe740a0b0db0f368b29c3e5305714f3cd1bcd649352718ba948fbfc31a3e"
   }
  }
 },
 "nbformat": 4,
 "nbformat_minor": 5
}
